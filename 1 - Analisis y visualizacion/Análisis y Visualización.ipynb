{
 "cells": [
  {
   "cell_type": "markdown",
   "metadata": {},
   "source": [
    "#### Proyecto de mentoría\n",
    "#### Herramientas de Data Science para dosimetría en medicina nuclear\n",
    "#### P. Pérez\n",
    "\n",
    "## Análisis y Visualización\n",
    "\n",
    "Proyecto de mentoría para la materia de [Análisis y Visualización](https://github.com/DiploDatos/AnalisisyVisualizacion)."
   ]
  },
  {
   "cell_type": "code",
   "execution_count": null,
   "metadata": {},
   "outputs": [],
   "source": []
  }
 ],
 "metadata": {
  "kernelspec": {
   "display_name": "Python 3",
   "language": "python",
   "name": "python3"
  },
  "language_info": {
   "codemirror_mode": {
    "name": "ipython",
    "version": 3
   },
   "file_extension": ".py",
   "mimetype": "text/x-python",
   "name": "python",
   "nbconvert_exporter": "python",
   "pygments_lexer": "ipython3",
   "version": "3.7.1"
  }
 },
 "nbformat": 4,
 "nbformat_minor": 2
}
